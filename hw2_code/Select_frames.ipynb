{
 "cells": [
  {
   "cell_type": "code",
   "execution_count": 3,
   "metadata": {},
   "outputs": [],
   "source": [
    "\n",
    "import numpy\n",
    "import os\n",
    "import sys\n",
    "import yaml"
   ]
  },
  {
   "cell_type": "code",
   "execution_count": 4,
   "metadata": {},
   "outputs": [],
   "source": [
    "all_video_names = \"tryvideos\"\n",
    "config_file = \"config.yaml\"                                                                  \n",
    "my_params = yaml.load(open(config_file))                                                   \n",
    "                                                                                           \n",
    "# Get parameters from config file                                                          \n",
    "keyframe_interval = my_params.get('keyframe_interval')                                     \n",
    "hessian_threshold = my_params.get('hessian_threshold')                                     \n",
    "surf_features_folderpath = my_params.get('surf_features')                                  \n",
    "downsampled_videos = my_params.get('downsampled_videos')"
   ]
  },
  {
   "cell_type": "code",
   "execution_count": null,
   "metadata": {},
   "outputs": [],
   "source": [
    "\n",
    "output_file = sys.argv[3]\n",
    "ratio = float(sys.argv[2])\n",
    "\n",
    "\n",
    "# random selection is done by randomizing the rows of the whole matrix, and then selecting the first \n",
    "# num_of_frame * ratio rows\n",
    "numpy.random.seed(18877)\n",
    "\n",
    "if not os.path.exists(surf_features_folderpath):                                           \n",
    "    os.mkdir(surf_features_folderpath)                                                     \n",
    "\n",
    "\n",
    "fread = open(all_video_names, \"r\")\n",
    "fwrite = open(output_file,\"w\")\n",
    "\n",
    "\n",
    "for line in fread.readlines():\n",
    "\n",
    "    start = time.time()\n",
    "    video_name = line.replace('\\n', '')\n",
    "    surf_feat_video_filename = os.path.join(surf_features_folderpath, video_name + '.surf')\n",
    "\n",
    "    if (not os.path.isfile(surf_feat_video_filename)):\n",
    "        print(\"skipping\", video_name)\n",
    "        continue\n",
    "    \n",
    "    # Mind the delimiter -- Check\n",
    "    array = numpy.genfromtxt(surf_feat_video_filename, delimiter=\",\")\n",
    "    numpy.random.shuffle(array)\n",
    "    select_size = int(array.shape[0] * ratio)\n",
    "    feat_dim = array.shape[1]\n",
    "\n",
    "    for n in xrange(select_size):\n",
    "        line = str(array[n][0])\n",
    "        for m in range(1, feat_dim):\n",
    "            line += ';' + str(array[n][m])\n",
    "        fwrite.write(line + '\\n')\n",
    "fwrite.close()"
   ]
  }
 ],
 "metadata": {
  "kernelspec": {
   "display_name": "Python 3",
   "language": "python",
   "name": "python3"
  },
  "language_info": {
   "codemirror_mode": {
    "name": "ipython",
    "version": 3
   },
   "file_extension": ".py",
   "mimetype": "text/x-python",
   "name": "python",
   "nbconvert_exporter": "python",
   "pygments_lexer": "ipython3",
   "version": "3.6.7"
  }
 },
 "nbformat": 4,
 "nbformat_minor": 2
}
