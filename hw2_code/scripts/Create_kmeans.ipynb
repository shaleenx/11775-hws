{
 "cells": [
  {
   "cell_type": "code",
   "execution_count": 1,
   "metadata": {},
   "outputs": [],
   "source": [
    "import numpy\n",
    "import os\n",
    "import pickle\n",
    "from sklearn.cluster.k_means_ import KMeans\n",
    "import sys\n",
    "import pandas as pd\n",
    "from itertools import permutations\n",
    "import time\n",
    "# Generate k-means features for videos; each video is represented by a single vector"
   ]
  },
  {
   "cell_type": "code",
   "execution_count": 2,
   "metadata": {},
   "outputs": [],
   "source": [
    "def distance(x1, x2):\n",
    "    # x1 and x2 are numpy arrays\n",
    "    return np.linalg.norm(x1-x2, axis=0)\n",
    "\n",
    "def closest_center(x):\n",
    "    # x is a numpy array representing coordinates\n",
    "    closest_center = 0\n",
    "    closest_dist = distance(kmeans.cluster_centers_[0], x)\n",
    "    for i, center in enumerate(np.around(kmeans.cluster_centers_)):\n",
    "        dist = distance(center, x)\n",
    "        if dist < closest_dist:\n",
    "            closest_center = i\n",
    "            closest_dist = dist\n",
    "    return closest_center"
   ]
  },
  {
   "cell_type": "code",
   "execution_count": null,
   "metadata": {},
   "outputs": [],
   "source": [
    "if __name__ == '__main__':\n",
    "    if len(sys.argv) != 4:\n",
    "        print \"Usage: {0} kmeans_model, cluster_num, file_list\".format(sys.argv[0])\n",
    "        print \"kmeans_model -- path to the kmeans model\"\n",
    "        print \"cluster_num -- number of cluster\"\n",
    "        print \"file_list -- the list of videos\"\n",
    "        exit(1)\n",
    "\n",
    "    kmeans_model = sys.argv[1]; file_list = sys.argv[3]\n",
    "    cluster_num = int(sys.argv[2])\n",
    "    mfcc_file_prefix = \"../mfcc/\"\n",
    "    mfcc_file_suffix = \".mfcc.csv\"\n",
    "    vector_file = \"train_video_vectors.txt\"\n",
    "\n",
    "    # load the kmeans model\n",
    "    kmeans = pickle.load(open(kmeans_model,\"rb\"))\n",
    "    \n",
    "    with open(file_list, \"r\") as f:\n",
    "        video_list = f.read().split(\"\\n\")\n",
    "\n",
    "    video_list = video_list[:-1]\n",
    "    video_vectors = np.zeros([len(video_list), len(kmeans.cluster_centers_)])\n",
    "    \n",
    "    for i, video in enumerate(video_list):\n",
    "        try:\n",
    "            df = pd.read_csv(mfcc_file_prefix + video + mfcc_file_suffix, delimiter=';', header=None)\n",
    "        except IOError:\n",
    "            print(\"File Not Found: \" + mfcc_file_prefix + video + mfcc_file_suffix)\n",
    "            continue\n",
    "        print(\"File: \" + video)\n",
    "        start = time.time()\n",
    "        for mfcc in df.values:\n",
    "            closest_center_index = closest_center(np.around(mfcc))\n",
    "            video_vectors[i][closest_center_index] += 1\n",
    "        print(i, time.time() - start)\n",
    "    np.savetxt(vector_file, video_vectors)\n",
    "    print(video_vectors)\n",
    "\n",
    "    print \"K-means features generated successfully!\""
   ]
  }
 ],
 "metadata": {
  "kernelspec": {
   "display_name": "Python 3",
   "language": "python",
   "name": "python3"
  },
  "language_info": {
   "codemirror_mode": {
    "name": "ipython",
    "version": 3
   },
   "file_extension": ".py",
   "mimetype": "text/x-python",
   "name": "python",
   "nbconvert_exporter": "python",
   "pygments_lexer": "ipython3",
   "version": "3.6.7"
  }
 },
 "nbformat": 4,
 "nbformat_minor": 2
}
