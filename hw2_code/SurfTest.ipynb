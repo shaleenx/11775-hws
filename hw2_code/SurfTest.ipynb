{
 "cells": [
  {
   "cell_type": "code",
   "execution_count": 33,
   "metadata": {},
   "outputs": [],
   "source": [
    "import os             \n",
    "import sys            \n",
    "import threading      \n",
    "import cv2            \n",
    "import numpy as np    \n",
    "import yaml           \n",
    "import pickle\n",
    "import time\n",
    "import csv\n",
    "import pdb\n",
    "from joblib import Parallel, delayed"
   ]
  },
  {
   "cell_type": "code",
   "execution_count": 34,
   "metadata": {},
   "outputs": [],
   "source": [
    "def get_surf_features_from_video(downsampled_video_filename, surf_feat_video_filename, keyframe_interval):                                                      \n",
    "    \"Receives filename of downsampled video and of output path for features. Extracts features in the given keyframe_interval. Saves features in pickled file.\" \n",
    "    keyframe_iterator = get_keyframes(downsampled_video_filename, keyframe_interval)\n",
    "    \n",
    "#     feature_vectors = np."
   ]
  },
  {
   "cell_type": "code",
   "execution_count": 35,
   "metadata": {},
   "outputs": [],
   "source": [
    "def get_keyframes(surf, downsampled_video_filename, keyframe_interval): \n",
    "    \"Generator function which returns the next keyframe.\"         \n",
    "\n",
    "    # Create video capture object                                     \n",
    "    video_cap = cv2.VideoCapture(downsampled_video_filename)                                     \n",
    "    frame = 0                                                                                    \n",
    "    while True:                                                                                  \n",
    "        frame += 1                                                                               \n",
    "        ret, img = video_cap.read()                                                              \n",
    "        if ret is False:                                                                         \n",
    "            break                                                                                \n",
    "        if frame % keyframe_interval == 0:                                                       \n",
    "            surf_features = surf.detectAndCompute(cv2.cvtColor(img, cv2.COLOR_BGR2GRAY), None)[1]\n",
    "            if surf_features is not None:                                                        \n",
    "                yield surf_features.reshape((-1,128))                                            \n",
    "#               yield img\n",
    "    video_cap.release()\n"
   ]
  },
  {
   "cell_type": "code",
   "execution_count": 36,
   "metadata": {},
   "outputs": [],
   "source": [
    "all_video_names = \"tryvideos\"\n",
    "config_file = \"config.yaml\"                                                                  \n",
    "my_params = yaml.load(open(config_file))                                                   \n",
    "                                                                                           \n",
    "# Get parameters from config file                                                          \n",
    "keyframe_interval = my_params.get('keyframe_interval')                                     \n",
    "hessian_threshold = my_params.get('hessian_threshold')                                     \n",
    "surf_features_folderpath = my_params.get('surf_features')                                  \n",
    "downsampled_videos = my_params.get('downsampled_videos')                                   \n"
   ]
  },
  {
   "cell_type": "code",
   "execution_count": 50,
   "metadata": {},
   "outputs": [],
   "source": [
    "def get_for_one(line, surf):\n",
    "    start = time.time()\n",
    "    video_name = line.replace('\\n', '')\n",
    "    downsampled_video_filename = os.path.join(downsampled_videos, video_name + '.ds.mp4')\n",
    "    surf_feat_video_filename = os.path.join(surf_features_folderpath, video_name + '.surf')\n",
    "\n",
    "    if (os.path.isfile(surf_feat_video_filename)) or (not os.path.isfile(downsampled_video_filename)):\n",
    "        print(\"skipping\", video_name)\n",
    "        return\n",
    "#         continue\n",
    "\n",
    "    # Get SURF features for one video\n",
    "#         start = time.time()\n",
    "#         keyframe_iterator = get_keyframes(surf, downsampled_video_filename, keyframe_interval)\n",
    "#         print(time.time() - start)\n",
    "#         start = time.time()\n",
    "#         surf_feats = np.vstack([x for x in keyframe_iterator])\n",
    "#         print(time.time() - start)\n",
    "#         start = time.time()\n",
    "#         np.savetxt(\"try.csv\", surf_feats)\n",
    "#         print(time.time() - start)\n",
    "#         with open(\"try.csv\", \"w\") as file1:\n",
    "#             writes = csv.writer(file1, delimiter=',',)\n",
    "#             writes.writerows(keyframe_iterator)\n",
    "\n",
    "#         get_surf_features_from_video(downsampled_video_filename, surf_feat_video_filename, keyframe_interval)\n",
    "    start = time.time()\n",
    "    keyframe_iterator = get_keyframes(surf, downsampled_video_filename, keyframe_interval)\n",
    "    print(\"iterator: \", time.time() - start)\n",
    "    try:\n",
    "        start = time.time()\n",
    "        surf_feats = np.vstack(np.array(list(keyframe_iterator)))\n",
    "        print(\"vstack: \", time.time() - start)\n",
    "        start = time.time()\n",
    "        np.savetxt(surf_feat_video_filename, surf_feats, delimiter=\",\")\n",
    "        print(\"save file: \", time.time() - start)\n",
    "        print(\"Finished\", video_name, \"in\", time.time() - start, \"seconds\")\n",
    "    except(ValueError):\n",
    "        os.system(\"echo \" + video_name + \" > emptyvideos\")\n",
    "\n",
    "def get_features():                                                     \n",
    "    # TODO: Create SURF object                                                                 \n",
    "    # global surf\n",
    "    # surf = cv2.SURF(12000,2,3,1)                                                        \n",
    "    surf = cv2.xfeatures2d.SURF_create()\n",
    "    surf.setExtended(True)\n",
    "\n",
    "    # Check if folder for SURF features exists                                                 \n",
    "    if not os.path.exists(surf_features_folderpath):                                           \n",
    "        os.mkdir(surf_features_folderpath)                                                     \n",
    "\n",
    "    # Loop over all videos (training, val, testing)                                            \n",
    "    # TODO: get SURF features for all videos but only from keyframes                           \n",
    "\n",
    "    fread = open(all_video_names, \"r\")\n",
    "    Parallel(n_jobs=6, prefer=\"threads\")(delayed(get_for_one)(line, surf) for line in fread.readlines())\n",
    "#     for line in fread.readlines():"
   ]
  },
  {
   "cell_type": "code",
   "execution_count": 51,
   "metadata": {},
   "outputs": [
    {
     "name": "stdout",
     "output_type": "stream",
     "text": [
      "iterator:  1.430511474609375e-06\n",
      "iterator:  1.430511474609375e-06\n",
      "iterator:  1.430511474609375e-06\n",
      "vstack:  4.533970355987549\n",
      "vstack:  6.1893346309661865\n",
      "save file:  7.705695390701294\n",
      "Finished HVC1945 in 7.705829620361328 seconds\n",
      "vstack:  12.836823463439941\n",
      "save file:  10.007382869720459\n",
      "Finished HVC1062 in 10.007795095443726 seconds\n",
      "save file:  18.919201135635376\n",
      "Finished HVC1012 in 18.919522762298584 seconds\n",
      "31.846588373184204\n"
     ]
    }
   ],
   "source": [
    "start = time.time()\n",
    "get_features()\n",
    "print(time.time() - start)"
   ]
  },
  {
   "cell_type": "code",
   "execution_count": 67,
   "metadata": {},
   "outputs": [],
   "source": [
    "# a = np.empty((0, 128), float)\n",
    "# start = time.time()\n",
    "# for i in keyframe_iterator:\n",
    "#     a = np.vstack((a, i))\n",
    "# print(a.shape)\n",
    "# print(time.time() - start)\n",
    "# #     (kps, descs) = surf.detectAndCompute(cv2.cvtColor(i, cv2.COLOR_BGR2GRAY), None)\n",
    "# #     descs.reshape((-1,128))\n",
    "# #     np.hstack([a, i])\n",
    "# # a = map(lambda x: surf.detectAndCompute(cv2.cvtColor(i, cv2.COLOR_BGR2GRAY), None)[1].reshape((-1,128)), keyframe_iterator)\n",
    "# # a = map(lambda x: surf.detectAndCompute(cv2.cvtColor(i, cv2.COLOR_BGR2GRAY), None)[1].reshape((-1,128)), keyframe_iterator)\n",
    "# # c = np.fromiter((surf.detectAndCompute(cv2.cvtColor(i, cv2.COLOR_BGR2GRAY), None)[1].reshape((-1,128)) for i in keyframe_iterator), keyframe_iterator.dtype)\n",
    "# # np.apply_along_axis(surf.detectAndCompute(cv2.cvtColor(i, cv2.COLOR_BGR2GRAY)))"
   ]
  },
  {
   "cell_type": "code",
   "execution_count": 68,
   "metadata": {},
   "outputs": [],
   "source": [
    "# # np.fromiter(keyframe_iterator, dtype = np.dtype('f8',(128)))\n",
    "\n",
    "# start = time.time()\n",
    "# a = np.vstack(np.array(list(keyframe_iterator)))\n",
    "# print(time.time() - start)"
   ]
  },
  {
   "cell_type": "code",
   "execution_count": 69,
   "metadata": {},
   "outputs": [],
   "source": [
    "# a.shape"
   ]
  },
  {
   "cell_type": "code",
   "execution_count": 70,
   "metadata": {},
   "outputs": [],
   "source": [
    "# start = time.time()\n",
    "# np.savetxt(\"foo.csv\", a, delimiter=\",\")\n",
    "# print(time.time() - start)"
   ]
  },
  {
   "cell_type": "code",
   "execution_count": 71,
   "metadata": {},
   "outputs": [],
   "source": [
    "# b = np.loadtxt(\"foo.csv\", delimiter=\",\")"
   ]
  },
  {
   "cell_type": "code",
   "execution_count": null,
   "metadata": {},
   "outputs": [],
   "source": []
  }
 ],
 "metadata": {
  "kernelspec": {
   "display_name": "Python 3",
   "language": "python",
   "name": "python3"
  },
  "language_info": {
   "codemirror_mode": {
    "name": "ipython",
    "version": 3
   },
   "file_extension": ".py",
   "mimetype": "text/x-python",
   "name": "python",
   "nbconvert_exporter": "python",
   "pygments_lexer": "ipython3",
   "version": "3.6.7"
  }
 },
 "nbformat": 4,
 "nbformat_minor": 2
}
